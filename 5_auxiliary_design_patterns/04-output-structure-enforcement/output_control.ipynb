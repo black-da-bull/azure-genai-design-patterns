{
 "cells": [
  {
   "cell_type": "code",
   "execution_count": null,
   "metadata": {},
   "outputs": [],
   "source": [
    "from dotenv import load_dotenv\n",
    "import openai\n",
    "import os\n",
    "from pathlib import Path  # Python 3.6+ only\n",
    "\n",
    "env_path = Path('../') / 'secrets.env'\n",
    "load_dotenv(dotenv_path=env_path)\n",
    "key = os.getenv(\"AZURE_OPENAI_API_KEY\")\n",
    "openai_endpoint = os.getenv(\"AZURE_OPENAI_ENDPOINT\")\n",
    "openai.api_type = \"azure\"\n",
    "openai.api_version = \"2023-05-15\" \n",
    "openai.api_key= key\n",
    "openai.api_base=openai_endpoint\n",
    "engine = \"gpt-35-turbo\""
   ]
  },
  {
   "cell_type": "code",
   "execution_count": null,
   "metadata": {},
   "outputs": [],
   "source": [
    "messages = [{\"role\":\"system\",\"content\":\"You are an AI assistant that helps people find information.\"},\n",
    "            {\"role\":\"user\",\"content\":\"extract following content into json format \\n<<content>>\\n\\nHello and welcome to our customer support. My name is [Your Name] and I am here to assist you. How may I help you today?\\n\\nCustomer: Hi, I am having trouble with my account.\\n\\nYou: I am sorry to hear that. Can you please provide me with your account information so that I can assist you better?\\n\\nCustomer: Sure, my account username is [Username].\\n\\nYou: Thank you for providing that information. Can you please tell me what specific problem you are facing with your account?\\n\\nCustomer: I am unable to access my account. It keeps showing an error message.\\n\\nYou: I apologize for the inconvenience. Let me check your account and see what the problem is. Can you please provide me with your registered email address?\\n\\nCustomer: My email address is [Email Address].\\n\\nYou: Thank you. Let me check your account. [Check account]. I see that there is an issue with your password. Can you please try resetting your password by clicking on the \\\"forgot password\\\" link on the login page and following the steps?\\n\\nCustomer: Okay, I will try that.\\n\\nYou: Great. Once you have reset your password, please try logging in again and let me know if the issue persists.\\n\\nCustomer: Okay, I will do that.\\n\\nYou: Is there anything else I can assist you with?\\n\\nCustomer: No, that's all. Thank you for your help.\\n\\nYou: You're welcome. If you have any further questions or concerns, please feel free to contact us again. Have a great day!\\n\\n\\nThe extracted content is \\n{\\\"summary\\\": \\\"summary place holder\\\", \\\"problem\\\":[\\\"problem place holder\\\",\\\"problem place holder\\\"], \\\"next_action\\\":[\\\"next action place holder\\\",\\\"next action place holder\\\"]}\"},\n",
    "            ]\n"
   ]
  },
  {
   "cell_type": "code",
   "execution_count": null,
   "metadata": {},
   "outputs": [],
   "source": [
    "messages = [\n",
    "    {\"role\": \"system\", \"content\": \"\"\"You are an assistant designed to extract entities from text. Users will paste in a string of text and you will respond with entities you've extracted from the text as a JSON object. Here's an example of your output format:\n",
    "{\n",
    "   \"name\": \"\",\n",
    "   \"company\": \"\",\n",
    "   \"phone_number\": \"\"\n",
    "}\"\"\"},\n",
    "{\"role\": \"user\", \"content\": \"Hello. My name is Robert Smith. I'm calling from Contoso Insurance, Delaware. My colleague mentioned that you are interested in learning about our comprehensive benefits policy. Could you give me a call back at (555) 346-9322 when you get a chance so we can go over the benefits?\"}\n",
    "]"
   ]
  },
  {
   "cell_type": "code",
   "execution_count": null,
   "metadata": {},
   "outputs": [],
   "source": [
    "response = openai.ChatCompletion.create(\n",
    "engine=engine, \n",
    "messages = messages)\n",
    "llm_output = response['choices'][0]['message']['content']\n",
    "llm_output"
   ]
  },
  {
   "cell_type": "code",
   "execution_count": null,
   "metadata": {},
   "outputs": [],
   "source": [
    "import json\n",
    "json.loads(llm_output)"
   ]
  },
  {
   "cell_type": "code",
   "execution_count": null,
   "metadata": {},
   "outputs": [],
   "source": [
    "from azure.storage.blob import BlobServiceClient\n",
    "blob_service_client = BlobServiceClient.from_connection_string(con_str)\n",
    "\n",
    "container_client = blob_service_client.get_container_client(\"mltraining\")\n"
   ]
  },
  {
   "cell_type": "code",
   "execution_count": null,
   "metadata": {},
   "outputs": [],
   "source": [
    "from azure.storage.blob import generate_container_sas, generate_account_sas\n",
    "\n",
    "sas_token = generate_account_sas(\n",
    "    container_client.account_name,\n",
    "    permission= \"p\",\n",
    "    account_key=container_client.credential.account_key,\n",
    "    resource_types=\"p\",\n",
    "    expiry\n",
    ")\n",
    "sas_token"
   ]
  },
  {
   "cell_type": "code",
   "execution_count": null,
   "metadata": {},
   "outputs": [],
   "source": [
    "import os, uuid, sys\n",
    "from azure.storage.filedatalake import DataLakeServiceClient\n",
    "from azure.core._match_conditions import MatchConditions\n",
    "from azure.storage.filedatalake._models import ContentSettings\n",
    "from azure.identity import DefaultAzureCredential"
   ]
  },
  {
   "cell_type": "code",
   "execution_count": null,
   "metadata": {},
   "outputs": [],
   "source": [
    "service_client  = DataLakeServiceClient(sas_token=sas_token,account_url=\"{}://{}.dfs.core.windows.net\".format(\n",
    "            \"https\", \"adlsstore0001\"))\n",
    "file_system_client = service_client.get_file_system_client(file_system=\"mltraining\")\n",
    "\n",
    "directory_client = file_system_client.get_directory_client(\"dev\")\n",
    "\n",
    "acl_props = directory_client.get_access_control()\n",
    "\n",
    "\n",
    "\n",
    "print(acl_props['permissions'])\n",
    "\n",
    "new_dir_permissions = \"rwxr-xrw-\"\n",
    "\n",
    "directory_client.set_access_control(permissions=new_dir_permissions)\n",
    "\n",
    "acl_props = directory_client.get_access_control()\n",
    "\n",
    "print(acl_props['permissions'])\n",
    "    \n"
   ]
  },
  {
   "cell_type": "code",
   "execution_count": null,
   "metadata": {},
   "outputs": [],
   "source": [
    "service_client=DataLakeServiceClient.from_connection_string(con_str2)\n",
    "file_system_client = service_client.get_file_system_client(file_system=\"mltraining\")\n",
    "\n",
    "directory_client = file_system_client.get_directory_client(\"dev\")\n",
    "\n",
    "acl_props = directory_client.get_access_control()\n",
    "\n",
    "\n",
    "\n",
    "print(acl_props['permissions'])\n",
    "\n",
    "new_dir_permissions = \"rwxr-xrw-\"\n",
    "\n",
    "directory_client.set_access_control(permissions=new_dir_permissions)\n",
    "\n",
    "acl_props = directory_client.get_access_control()\n",
    "\n",
    "print(acl_props['permissions'])\n",
    "    \n"
   ]
  },
  {
   "cell_type": "code",
   "execution_count": null,
   "metadata": {},
   "outputs": [],
   "source": []
  }
 ],
 "metadata": {
  "kernelspec": {
   "display_name": "forecasting",
   "language": "python",
   "name": "python3"
  },
  "language_info": {
   "codemirror_mode": {
    "name": "ipython",
    "version": 3
   },
   "file_extension": ".py",
   "mimetype": "text/x-python",
   "name": "python",
   "nbconvert_exporter": "python",
   "pygments_lexer": "ipython3",
   "version": "3.9.12"
  },
  "orig_nbformat": 4
 },
 "nbformat": 4,
 "nbformat_minor": 2
}
